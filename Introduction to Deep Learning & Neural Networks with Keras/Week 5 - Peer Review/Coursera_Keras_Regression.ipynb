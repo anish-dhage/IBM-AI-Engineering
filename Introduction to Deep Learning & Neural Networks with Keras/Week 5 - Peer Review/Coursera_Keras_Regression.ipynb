{
 "cells": [
  {
   "cell_type": "markdown",
   "metadata": {
    "button": false,
    "deletable": true,
    "new_sheet": false,
    "run_control": {
     "read_only": false
    }
   },
   "source": [
    "<a id=\"item31\"></a>"
   ]
  },
  {
   "cell_type": "markdown",
   "metadata": {
    "button": false,
    "deletable": true,
    "new_sheet": false,
    "run_control": {
     "read_only": false
    }
   },
   "source": [
    "## Download and Clean Dataset"
   ]
  },
  {
   "cell_type": "markdown",
   "metadata": {
    "button": false,
    "deletable": true,
    "new_sheet": false,
    "run_control": {
     "read_only": false
    }
   },
   "source": [
    "Let's start by importing the <em>pandas</em> and the Numpy libraries."
   ]
  },
  {
   "cell_type": "code",
   "execution_count": 1,
   "metadata": {
    "button": false,
    "deletable": true,
    "new_sheet": false,
    "run_control": {
     "read_only": false
    }
   },
   "outputs": [],
   "source": [
    "#PART A\n",
    "\n",
    "import pandas as pd\n",
    "import numpy as np"
   ]
  },
  {
   "cell_type": "markdown",
   "metadata": {
    "button": false,
    "deletable": true,
    "new_sheet": false,
    "run_control": {
     "read_only": false
    }
   },
   "source": [
    "Let's download the data and read it into a <em>pandas</em> dataframe."
   ]
  },
  {
   "cell_type": "code",
   "execution_count": 2,
   "metadata": {
    "button": false,
    "deletable": true,
    "new_sheet": false,
    "run_control": {
     "read_only": false
    }
   },
   "outputs": [
    {
     "data": {
      "text/html": [
       "<div>\n",
       "<style scoped>\n",
       "    .dataframe tbody tr th:only-of-type {\n",
       "        vertical-align: middle;\n",
       "    }\n",
       "\n",
       "    .dataframe tbody tr th {\n",
       "        vertical-align: top;\n",
       "    }\n",
       "\n",
       "    .dataframe thead th {\n",
       "        text-align: right;\n",
       "    }\n",
       "</style>\n",
       "<table border=\"1\" class=\"dataframe\">\n",
       "  <thead>\n",
       "    <tr style=\"text-align: right;\">\n",
       "      <th></th>\n",
       "      <th>Cement</th>\n",
       "      <th>Blast Furnace Slag</th>\n",
       "      <th>Fly Ash</th>\n",
       "      <th>Water</th>\n",
       "      <th>Superplasticizer</th>\n",
       "      <th>Coarse Aggregate</th>\n",
       "      <th>Fine Aggregate</th>\n",
       "      <th>Age</th>\n",
       "      <th>Strength</th>\n",
       "    </tr>\n",
       "  </thead>\n",
       "  <tbody>\n",
       "    <tr>\n",
       "      <th>0</th>\n",
       "      <td>540.0</td>\n",
       "      <td>0.0</td>\n",
       "      <td>0.0</td>\n",
       "      <td>162.0</td>\n",
       "      <td>2.5</td>\n",
       "      <td>1040.0</td>\n",
       "      <td>676.0</td>\n",
       "      <td>28</td>\n",
       "      <td>79.99</td>\n",
       "    </tr>\n",
       "    <tr>\n",
       "      <th>1</th>\n",
       "      <td>540.0</td>\n",
       "      <td>0.0</td>\n",
       "      <td>0.0</td>\n",
       "      <td>162.0</td>\n",
       "      <td>2.5</td>\n",
       "      <td>1055.0</td>\n",
       "      <td>676.0</td>\n",
       "      <td>28</td>\n",
       "      <td>61.89</td>\n",
       "    </tr>\n",
       "    <tr>\n",
       "      <th>2</th>\n",
       "      <td>332.5</td>\n",
       "      <td>142.5</td>\n",
       "      <td>0.0</td>\n",
       "      <td>228.0</td>\n",
       "      <td>0.0</td>\n",
       "      <td>932.0</td>\n",
       "      <td>594.0</td>\n",
       "      <td>270</td>\n",
       "      <td>40.27</td>\n",
       "    </tr>\n",
       "    <tr>\n",
       "      <th>3</th>\n",
       "      <td>332.5</td>\n",
       "      <td>142.5</td>\n",
       "      <td>0.0</td>\n",
       "      <td>228.0</td>\n",
       "      <td>0.0</td>\n",
       "      <td>932.0</td>\n",
       "      <td>594.0</td>\n",
       "      <td>365</td>\n",
       "      <td>41.05</td>\n",
       "    </tr>\n",
       "    <tr>\n",
       "      <th>4</th>\n",
       "      <td>198.6</td>\n",
       "      <td>132.4</td>\n",
       "      <td>0.0</td>\n",
       "      <td>192.0</td>\n",
       "      <td>0.0</td>\n",
       "      <td>978.4</td>\n",
       "      <td>825.5</td>\n",
       "      <td>360</td>\n",
       "      <td>44.30</td>\n",
       "    </tr>\n",
       "  </tbody>\n",
       "</table>\n",
       "</div>"
      ],
      "text/plain": [
       "   Cement  Blast Furnace Slag  Fly Ash  Water  Superplasticizer  \\\n",
       "0   540.0                 0.0      0.0  162.0               2.5   \n",
       "1   540.0                 0.0      0.0  162.0               2.5   \n",
       "2   332.5               142.5      0.0  228.0               0.0   \n",
       "3   332.5               142.5      0.0  228.0               0.0   \n",
       "4   198.6               132.4      0.0  192.0               0.0   \n",
       "\n",
       "   Coarse Aggregate  Fine Aggregate  Age  Strength  \n",
       "0            1040.0           676.0   28     79.99  \n",
       "1            1055.0           676.0   28     61.89  \n",
       "2             932.0           594.0  270     40.27  \n",
       "3             932.0           594.0  365     41.05  \n",
       "4             978.4           825.5  360     44.30  "
      ]
     },
     "execution_count": 2,
     "metadata": {},
     "output_type": "execute_result"
    }
   ],
   "source": [
    "concrete_data = pd.read_csv('https://s3-api.us-geo.objectstorage.softlayer.net/cf-courses-data/CognitiveClass/DL0101EN/labs/data/concrete_data.csv')\n",
    "concrete_data.head()"
   ]
  },
  {
   "cell_type": "markdown",
   "metadata": {
    "button": false,
    "deletable": true,
    "new_sheet": false,
    "run_control": {
     "read_only": false
    }
   },
   "source": [
    "#### Let's check how many data points we have."
   ]
  },
  {
   "cell_type": "code",
   "execution_count": 3,
   "metadata": {
    "button": false,
    "deletable": true,
    "new_sheet": false,
    "run_control": {
     "read_only": false
    }
   },
   "outputs": [
    {
     "data": {
      "text/plain": [
       "(1030, 9)"
      ]
     },
     "execution_count": 3,
     "metadata": {},
     "output_type": "execute_result"
    }
   ],
   "source": [
    "concrete_data.shape"
   ]
  },
  {
   "cell_type": "code",
   "execution_count": 4,
   "metadata": {
    "button": false,
    "deletable": true,
    "new_sheet": false,
    "run_control": {
     "read_only": false
    }
   },
   "outputs": [
    {
     "data": {
      "text/html": [
       "<div>\n",
       "<style scoped>\n",
       "    .dataframe tbody tr th:only-of-type {\n",
       "        vertical-align: middle;\n",
       "    }\n",
       "\n",
       "    .dataframe tbody tr th {\n",
       "        vertical-align: top;\n",
       "    }\n",
       "\n",
       "    .dataframe thead th {\n",
       "        text-align: right;\n",
       "    }\n",
       "</style>\n",
       "<table border=\"1\" class=\"dataframe\">\n",
       "  <thead>\n",
       "    <tr style=\"text-align: right;\">\n",
       "      <th></th>\n",
       "      <th>Cement</th>\n",
       "      <th>Blast Furnace Slag</th>\n",
       "      <th>Fly Ash</th>\n",
       "      <th>Water</th>\n",
       "      <th>Superplasticizer</th>\n",
       "      <th>Coarse Aggregate</th>\n",
       "      <th>Fine Aggregate</th>\n",
       "      <th>Age</th>\n",
       "      <th>Strength</th>\n",
       "    </tr>\n",
       "  </thead>\n",
       "  <tbody>\n",
       "    <tr>\n",
       "      <th>count</th>\n",
       "      <td>1030.000000</td>\n",
       "      <td>1030.000000</td>\n",
       "      <td>1030.000000</td>\n",
       "      <td>1030.000000</td>\n",
       "      <td>1030.000000</td>\n",
       "      <td>1030.000000</td>\n",
       "      <td>1030.000000</td>\n",
       "      <td>1030.000000</td>\n",
       "      <td>1030.000000</td>\n",
       "    </tr>\n",
       "    <tr>\n",
       "      <th>mean</th>\n",
       "      <td>281.167864</td>\n",
       "      <td>73.895825</td>\n",
       "      <td>54.188350</td>\n",
       "      <td>181.567282</td>\n",
       "      <td>6.204660</td>\n",
       "      <td>972.918932</td>\n",
       "      <td>773.580485</td>\n",
       "      <td>45.662136</td>\n",
       "      <td>35.817961</td>\n",
       "    </tr>\n",
       "    <tr>\n",
       "      <th>std</th>\n",
       "      <td>104.506364</td>\n",
       "      <td>86.279342</td>\n",
       "      <td>63.997004</td>\n",
       "      <td>21.354219</td>\n",
       "      <td>5.973841</td>\n",
       "      <td>77.753954</td>\n",
       "      <td>80.175980</td>\n",
       "      <td>63.169912</td>\n",
       "      <td>16.705742</td>\n",
       "    </tr>\n",
       "    <tr>\n",
       "      <th>min</th>\n",
       "      <td>102.000000</td>\n",
       "      <td>0.000000</td>\n",
       "      <td>0.000000</td>\n",
       "      <td>121.800000</td>\n",
       "      <td>0.000000</td>\n",
       "      <td>801.000000</td>\n",
       "      <td>594.000000</td>\n",
       "      <td>1.000000</td>\n",
       "      <td>2.330000</td>\n",
       "    </tr>\n",
       "    <tr>\n",
       "      <th>25%</th>\n",
       "      <td>192.375000</td>\n",
       "      <td>0.000000</td>\n",
       "      <td>0.000000</td>\n",
       "      <td>164.900000</td>\n",
       "      <td>0.000000</td>\n",
       "      <td>932.000000</td>\n",
       "      <td>730.950000</td>\n",
       "      <td>7.000000</td>\n",
       "      <td>23.710000</td>\n",
       "    </tr>\n",
       "    <tr>\n",
       "      <th>50%</th>\n",
       "      <td>272.900000</td>\n",
       "      <td>22.000000</td>\n",
       "      <td>0.000000</td>\n",
       "      <td>185.000000</td>\n",
       "      <td>6.400000</td>\n",
       "      <td>968.000000</td>\n",
       "      <td>779.500000</td>\n",
       "      <td>28.000000</td>\n",
       "      <td>34.445000</td>\n",
       "    </tr>\n",
       "    <tr>\n",
       "      <th>75%</th>\n",
       "      <td>350.000000</td>\n",
       "      <td>142.950000</td>\n",
       "      <td>118.300000</td>\n",
       "      <td>192.000000</td>\n",
       "      <td>10.200000</td>\n",
       "      <td>1029.400000</td>\n",
       "      <td>824.000000</td>\n",
       "      <td>56.000000</td>\n",
       "      <td>46.135000</td>\n",
       "    </tr>\n",
       "    <tr>\n",
       "      <th>max</th>\n",
       "      <td>540.000000</td>\n",
       "      <td>359.400000</td>\n",
       "      <td>200.100000</td>\n",
       "      <td>247.000000</td>\n",
       "      <td>32.200000</td>\n",
       "      <td>1145.000000</td>\n",
       "      <td>992.600000</td>\n",
       "      <td>365.000000</td>\n",
       "      <td>82.600000</td>\n",
       "    </tr>\n",
       "  </tbody>\n",
       "</table>\n",
       "</div>"
      ],
      "text/plain": [
       "            Cement  Blast Furnace Slag      Fly Ash        Water  \\\n",
       "count  1030.000000         1030.000000  1030.000000  1030.000000   \n",
       "mean    281.167864           73.895825    54.188350   181.567282   \n",
       "std     104.506364           86.279342    63.997004    21.354219   \n",
       "min     102.000000            0.000000     0.000000   121.800000   \n",
       "25%     192.375000            0.000000     0.000000   164.900000   \n",
       "50%     272.900000           22.000000     0.000000   185.000000   \n",
       "75%     350.000000          142.950000   118.300000   192.000000   \n",
       "max     540.000000          359.400000   200.100000   247.000000   \n",
       "\n",
       "       Superplasticizer  Coarse Aggregate  Fine Aggregate          Age  \\\n",
       "count       1030.000000       1030.000000     1030.000000  1030.000000   \n",
       "mean           6.204660        972.918932      773.580485    45.662136   \n",
       "std            5.973841         77.753954       80.175980    63.169912   \n",
       "min            0.000000        801.000000      594.000000     1.000000   \n",
       "25%            0.000000        932.000000      730.950000     7.000000   \n",
       "50%            6.400000        968.000000      779.500000    28.000000   \n",
       "75%           10.200000       1029.400000      824.000000    56.000000   \n",
       "max           32.200000       1145.000000      992.600000   365.000000   \n",
       "\n",
       "          Strength  \n",
       "count  1030.000000  \n",
       "mean     35.817961  \n",
       "std      16.705742  \n",
       "min       2.330000  \n",
       "25%      23.710000  \n",
       "50%      34.445000  \n",
       "75%      46.135000  \n",
       "max      82.600000  "
      ]
     },
     "execution_count": 4,
     "metadata": {},
     "output_type": "execute_result"
    }
   ],
   "source": [
    "concrete_data.describe()"
   ]
  },
  {
   "cell_type": "markdown",
   "metadata": {
    "button": false,
    "deletable": true,
    "new_sheet": false,
    "run_control": {
     "read_only": false
    }
   },
   "source": [
    "#### Split data into predictors and target"
   ]
  },
  {
   "cell_type": "markdown",
   "metadata": {},
   "source": [
    "The target variable in this problem is the concrete sample strength. Therefore, our predictors will be all the other columns."
   ]
  },
  {
   "cell_type": "code",
   "execution_count": 5,
   "metadata": {
    "button": false,
    "deletable": true,
    "new_sheet": false,
    "run_control": {
     "read_only": false
    }
   },
   "outputs": [],
   "source": [
    "concrete_data_columns = concrete_data.columns\n",
    "\n",
    "predictors = concrete_data[concrete_data_columns[concrete_data_columns != 'Strength']] # all columns except Strength\n",
    "target = concrete_data['Strength'] # Strength column"
   ]
  },
  {
   "cell_type": "markdown",
   "metadata": {
    "button": false,
    "deletable": true,
    "new_sheet": false,
    "run_control": {
     "read_only": false
    }
   },
   "source": [
    "<a id=\"item2\"></a>"
   ]
  },
  {
   "cell_type": "code",
   "execution_count": 6,
   "metadata": {
    "button": false,
    "deletable": true,
    "new_sheet": false,
    "run_control": {
     "read_only": false
    }
   },
   "outputs": [
    {
     "data": {
      "text/html": [
       "<div>\n",
       "<style scoped>\n",
       "    .dataframe tbody tr th:only-of-type {\n",
       "        vertical-align: middle;\n",
       "    }\n",
       "\n",
       "    .dataframe tbody tr th {\n",
       "        vertical-align: top;\n",
       "    }\n",
       "\n",
       "    .dataframe thead th {\n",
       "        text-align: right;\n",
       "    }\n",
       "</style>\n",
       "<table border=\"1\" class=\"dataframe\">\n",
       "  <thead>\n",
       "    <tr style=\"text-align: right;\">\n",
       "      <th></th>\n",
       "      <th>Cement</th>\n",
       "      <th>Blast Furnace Slag</th>\n",
       "      <th>Fly Ash</th>\n",
       "      <th>Water</th>\n",
       "      <th>Superplasticizer</th>\n",
       "      <th>Coarse Aggregate</th>\n",
       "      <th>Fine Aggregate</th>\n",
       "      <th>Age</th>\n",
       "    </tr>\n",
       "  </thead>\n",
       "  <tbody>\n",
       "    <tr>\n",
       "      <th>0</th>\n",
       "      <td>540.0</td>\n",
       "      <td>0.0</td>\n",
       "      <td>0.0</td>\n",
       "      <td>162.0</td>\n",
       "      <td>2.5</td>\n",
       "      <td>1040.0</td>\n",
       "      <td>676.0</td>\n",
       "      <td>28</td>\n",
       "    </tr>\n",
       "    <tr>\n",
       "      <th>1</th>\n",
       "      <td>540.0</td>\n",
       "      <td>0.0</td>\n",
       "      <td>0.0</td>\n",
       "      <td>162.0</td>\n",
       "      <td>2.5</td>\n",
       "      <td>1055.0</td>\n",
       "      <td>676.0</td>\n",
       "      <td>28</td>\n",
       "    </tr>\n",
       "    <tr>\n",
       "      <th>2</th>\n",
       "      <td>332.5</td>\n",
       "      <td>142.5</td>\n",
       "      <td>0.0</td>\n",
       "      <td>228.0</td>\n",
       "      <td>0.0</td>\n",
       "      <td>932.0</td>\n",
       "      <td>594.0</td>\n",
       "      <td>270</td>\n",
       "    </tr>\n",
       "    <tr>\n",
       "      <th>3</th>\n",
       "      <td>332.5</td>\n",
       "      <td>142.5</td>\n",
       "      <td>0.0</td>\n",
       "      <td>228.0</td>\n",
       "      <td>0.0</td>\n",
       "      <td>932.0</td>\n",
       "      <td>594.0</td>\n",
       "      <td>365</td>\n",
       "    </tr>\n",
       "    <tr>\n",
       "      <th>4</th>\n",
       "      <td>198.6</td>\n",
       "      <td>132.4</td>\n",
       "      <td>0.0</td>\n",
       "      <td>192.0</td>\n",
       "      <td>0.0</td>\n",
       "      <td>978.4</td>\n",
       "      <td>825.5</td>\n",
       "      <td>360</td>\n",
       "    </tr>\n",
       "  </tbody>\n",
       "</table>\n",
       "</div>"
      ],
      "text/plain": [
       "   Cement  Blast Furnace Slag  Fly Ash  Water  Superplasticizer  \\\n",
       "0   540.0                 0.0      0.0  162.0               2.5   \n",
       "1   540.0                 0.0      0.0  162.0               2.5   \n",
       "2   332.5               142.5      0.0  228.0               0.0   \n",
       "3   332.5               142.5      0.0  228.0               0.0   \n",
       "4   198.6               132.4      0.0  192.0               0.0   \n",
       "\n",
       "   Coarse Aggregate  Fine Aggregate  Age  \n",
       "0            1040.0           676.0   28  \n",
       "1            1055.0           676.0   28  \n",
       "2             932.0           594.0  270  \n",
       "3             932.0           594.0  365  \n",
       "4             978.4           825.5  360  "
      ]
     },
     "execution_count": 6,
     "metadata": {},
     "output_type": "execute_result"
    }
   ],
   "source": [
    "predictors.head()"
   ]
  },
  {
   "cell_type": "code",
   "execution_count": 7,
   "metadata": {
    "button": false,
    "deletable": true,
    "new_sheet": false,
    "run_control": {
     "read_only": false
    }
   },
   "outputs": [
    {
     "data": {
      "text/plain": [
       "0    79.99\n",
       "1    61.89\n",
       "2    40.27\n",
       "3    41.05\n",
       "4    44.30\n",
       "Name: Strength, dtype: float64"
      ]
     },
     "execution_count": 7,
     "metadata": {},
     "output_type": "execute_result"
    }
   ],
   "source": [
    "target.head()"
   ]
  },
  {
   "cell_type": "code",
   "execution_count": 8,
   "metadata": {
    "button": false,
    "deletable": true,
    "new_sheet": false,
    "run_control": {
     "read_only": false
    }
   },
   "outputs": [],
   "source": [
    "n_cols = predictors.shape[1] # number of predictors"
   ]
  },
  {
   "cell_type": "markdown",
   "metadata": {
    "button": false,
    "deletable": true,
    "new_sheet": false,
    "run_control": {
     "read_only": false
    }
   },
   "source": [
    "<a id=\"item1\"></a>"
   ]
  },
  {
   "cell_type": "code",
   "execution_count": 9,
   "metadata": {
    "button": false,
    "deletable": true,
    "new_sheet": false,
    "run_control": {
     "read_only": false
    }
   },
   "outputs": [
    {
     "name": "stderr",
     "output_type": "stream",
     "text": [
      "Using TensorFlow backend.\n",
      "/home/jupyterlab/conda/envs/python/lib/python3.6/site-packages/tensorflow/python/framework/dtypes.py:519: FutureWarning: Passing (type, 1) or '1type' as a synonym of type is deprecated; in a future version of numpy, it will be understood as (type, (1,)) / '(1,)type'.\n",
      "  _np_qint8 = np.dtype([(\"qint8\", np.int8, 1)])\n",
      "/home/jupyterlab/conda/envs/python/lib/python3.6/site-packages/tensorflow/python/framework/dtypes.py:520: FutureWarning: Passing (type, 1) or '1type' as a synonym of type is deprecated; in a future version of numpy, it will be understood as (type, (1,)) / '(1,)type'.\n",
      "  _np_quint8 = np.dtype([(\"quint8\", np.uint8, 1)])\n",
      "/home/jupyterlab/conda/envs/python/lib/python3.6/site-packages/tensorflow/python/framework/dtypes.py:521: FutureWarning: Passing (type, 1) or '1type' as a synonym of type is deprecated; in a future version of numpy, it will be understood as (type, (1,)) / '(1,)type'.\n",
      "  _np_qint16 = np.dtype([(\"qint16\", np.int16, 1)])\n",
      "/home/jupyterlab/conda/envs/python/lib/python3.6/site-packages/tensorflow/python/framework/dtypes.py:522: FutureWarning: Passing (type, 1) or '1type' as a synonym of type is deprecated; in a future version of numpy, it will be understood as (type, (1,)) / '(1,)type'.\n",
      "  _np_quint16 = np.dtype([(\"quint16\", np.uint16, 1)])\n",
      "/home/jupyterlab/conda/envs/python/lib/python3.6/site-packages/tensorflow/python/framework/dtypes.py:523: FutureWarning: Passing (type, 1) or '1type' as a synonym of type is deprecated; in a future version of numpy, it will be understood as (type, (1,)) / '(1,)type'.\n",
      "  _np_qint32 = np.dtype([(\"qint32\", np.int32, 1)])\n",
      "/home/jupyterlab/conda/envs/python/lib/python3.6/site-packages/tensorflow/python/framework/dtypes.py:528: FutureWarning: Passing (type, 1) or '1type' as a synonym of type is deprecated; in a future version of numpy, it will be understood as (type, (1,)) / '(1,)type'.\n",
      "  np_resource = np.dtype([(\"resource\", np.ubyte, 1)])\n"
     ]
    }
   ],
   "source": [
    "import keras"
   ]
  },
  {
   "cell_type": "markdown",
   "metadata": {
    "button": false,
    "deletable": true,
    "new_sheet": false,
    "run_control": {
     "read_only": false
    }
   },
   "source": [
    "As you can see, the TensorFlow backend was used to install the Keras library."
   ]
  },
  {
   "cell_type": "markdown",
   "metadata": {
    "button": false,
    "deletable": true,
    "new_sheet": false,
    "run_control": {
     "read_only": false
    }
   },
   "source": [
    "Let's import the rest of the packages from the Keras library that we will need to build our regressoin model."
   ]
  },
  {
   "cell_type": "code",
   "execution_count": 10,
   "metadata": {
    "button": false,
    "deletable": true,
    "new_sheet": false,
    "run_control": {
     "read_only": false
    }
   },
   "outputs": [],
   "source": [
    "from keras.models import Sequential\n",
    "from keras.layers import Dense\n",
    "from keras.layers import regularizers"
   ]
  },
  {
   "cell_type": "markdown",
   "metadata": {},
   "source": [
    "<a id='item33'></a>"
   ]
  },
  {
   "cell_type": "markdown",
   "metadata": {
    "button": false,
    "deletable": true,
    "new_sheet": false,
    "run_control": {
     "read_only": false
    }
   },
   "source": [
    "## Build a Neural Network"
   ]
  },
  {
   "cell_type": "markdown",
   "metadata": {
    "button": false,
    "deletable": true,
    "new_sheet": false,
    "run_control": {
     "read_only": false
    }
   },
   "source": [
    "Let's define a function that defines our regression model for us so that we can conveniently call it to create our model."
   ]
  },
  {
   "cell_type": "code",
   "execution_count": 12,
   "metadata": {
    "button": false,
    "new_sheet": false,
    "run_control": {
     "read_only": false
    }
   },
   "outputs": [],
   "source": [
    "# define regression model\n",
    "def regression_model():\n",
    "    # create model\n",
    "    model = Sequential()\n",
    "    model.add(Dense(10, activation='relu', input_shape=(n_cols,)))\n",
    "    model.add(Dense(1))\n",
    "    \n",
    "    # compile model\n",
    "    model.compile(optimizer='adam', loss='mean_squared_error')\n",
    "    return model"
   ]
  },
  {
   "cell_type": "markdown",
   "metadata": {
    "button": false,
    "deletable": true,
    "new_sheet": false,
    "run_control": {
     "read_only": false
    }
   },
   "source": [
    "<a id=\"item4\"></a>"
   ]
  },
  {
   "cell_type": "markdown",
   "metadata": {},
   "source": [
    "<a id='item34'></a>"
   ]
  },
  {
   "cell_type": "markdown",
   "metadata": {
    "button": false,
    "deletable": true,
    "new_sheet": false,
    "run_control": {
     "read_only": false
    }
   },
   "source": [
    "## Train and Test the Network"
   ]
  },
  {
   "cell_type": "markdown",
   "metadata": {},
   "source": [
    "Let's call the function now to create our model."
   ]
  },
  {
   "cell_type": "code",
   "execution_count": 29,
   "metadata": {
    "button": false,
    "deletable": true,
    "new_sheet": false,
    "run_control": {
     "read_only": false
    }
   },
   "outputs": [
    {
     "name": "stdout",
     "output_type": "stream",
     "text": [
      "309/309 [==============================] - 0s 70us/step\n",
      "309/309 [==============================] - 0s 127us/step\n",
      "309/309 [==============================] - 0s 83us/step\n",
      "309/309 [==============================] - 0s 77us/step\n",
      "309/309 [==============================] - 0s 124us/step\n",
      "309/309 [==============================] - 0s 128us/step\n",
      "309/309 [==============================] - 0s 90us/step\n",
      "309/309 [==============================] - 0s 125us/step\n",
      "309/309 [==============================] - 0s 130us/step\n",
      "309/309 [==============================] - 0s 124us/step\n",
      "309/309 [==============================] - 0s 72us/step\n",
      "309/309 [==============================] - 0s 130us/step\n",
      "309/309 [==============================] - 0s 130us/step\n",
      "309/309 [==============================] - 0s 128us/step\n",
      "309/309 [==============================] - 0s 118us/step\n",
      "309/309 [==============================] - 0s 74us/step\n",
      "309/309 [==============================] - 0s 175us/step\n",
      "309/309 [==============================] - 0s 133us/step\n",
      "309/309 [==============================] - 0s 124us/step\n",
      "309/309 [==============================] - 0s 108us/step\n",
      "309/309 [==============================] - 0s 128us/step\n",
      "309/309 [==============================] - 0s 116us/step\n",
      "309/309 [==============================] - 0s 129us/step\n",
      "309/309 [==============================] - 0s 124us/step\n",
      "309/309 [==============================] - 0s 133us/step\n",
      "309/309 [==============================] - 0s 86us/step\n",
      "309/309 [==============================] - 0s 122us/step\n",
      "309/309 [==============================] - 0s 172us/step\n",
      "309/309 [==============================] - 0s 134us/step\n",
      "309/309 [==============================] - 0s 186us/step\n",
      "309/309 [==============================] - 0s 141us/step\n",
      "309/309 [==============================] - 0s 137us/step\n",
      "309/309 [==============================] - 0s 127us/step\n",
      "309/309 [==============================] - 0s 117us/step\n",
      "309/309 [==============================] - 0s 125us/step\n",
      "309/309 [==============================] - 0s 186us/step\n",
      "309/309 [==============================] - 0s 128us/step\n",
      "309/309 [==============================] - 0s 143us/step\n",
      "309/309 [==============================] - 0s 125us/step\n",
      "309/309 [==============================] - 0s 129us/step\n",
      "309/309 [==============================] - 0s 88us/step\n",
      "309/309 [==============================] - 0s 193us/step\n",
      "309/309 [==============================] - 0s 140us/step\n",
      "309/309 [==============================] - 0s 131us/step\n",
      "309/309 [==============================] - 0s 171us/step\n",
      "309/309 [==============================] - 0s 127us/step\n",
      "309/309 [==============================] - 0s 175us/step\n",
      "309/309 [==============================] - 0s 142us/step\n",
      "309/309 [==============================] - 0s 187us/step\n"
     ]
    }
   ],
   "source": [
    "\n",
    "from sklearn.model_selection import train_test_split\n",
    "mse_list = []\n",
    "for i in range(50):\n",
    "    #changing split for every iteration\n",
    "    X_train, X_test, y_train, y_test = train_test_split( predictors, target, test_size=0.3)\n",
    "    model = regression_model()\n",
    "    model.fit(X_train, y_train, validation_split=0.3, epochs=50, verbose=0)\n",
    "    mse = model.evaluate(X_test,y_test)\n",
    "    #appending mse of each iteration to the list\n",
    "    mse_list.append(mse)"
   ]
  },
  {
   "cell_type": "code",
   "execution_count": 34,
   "metadata": {},
   "outputs": [
    {
     "name": "stdout",
     "output_type": "stream",
     "text": [
      "Mean MSE:  728.3870615902997\n",
      "Standard Deviation of MSE: 896.4221980423395\n"
     ]
    }
   ],
   "source": [
    "#Calculating mean and standard deviation of mse list\n",
    "mean_mse = sum(mse_list) / len(mse_list) \n",
    "variance = sum([((x - mean_mse) ** 2) for x in mse_list]) / len(mse_list) \n",
    "mse_std_deviation = variance ** 0.5\n",
    "print(\"Mean MSE: \",mean_mse)\n",
    "print(\"Standard Deviation of MSE:\",mse_std_deviation)"
   ]
  },
  {
   "cell_type": "code",
   "execution_count": null,
   "metadata": {},
   "outputs": [],
   "source": [
    "#PART B"
   ]
  },
  {
   "cell_type": "code",
   "execution_count": 35,
   "metadata": {},
   "outputs": [
    {
     "data": {
      "text/html": [
       "<div>\n",
       "<style scoped>\n",
       "    .dataframe tbody tr th:only-of-type {\n",
       "        vertical-align: middle;\n",
       "    }\n",
       "\n",
       "    .dataframe tbody tr th {\n",
       "        vertical-align: top;\n",
       "    }\n",
       "\n",
       "    .dataframe thead th {\n",
       "        text-align: right;\n",
       "    }\n",
       "</style>\n",
       "<table border=\"1\" class=\"dataframe\">\n",
       "  <thead>\n",
       "    <tr style=\"text-align: right;\">\n",
       "      <th></th>\n",
       "      <th>Cement</th>\n",
       "      <th>Blast Furnace Slag</th>\n",
       "      <th>Fly Ash</th>\n",
       "      <th>Water</th>\n",
       "      <th>Superplasticizer</th>\n",
       "      <th>Coarse Aggregate</th>\n",
       "      <th>Fine Aggregate</th>\n",
       "      <th>Age</th>\n",
       "    </tr>\n",
       "  </thead>\n",
       "  <tbody>\n",
       "    <tr>\n",
       "      <th>0</th>\n",
       "      <td>2.476712</td>\n",
       "      <td>-0.856472</td>\n",
       "      <td>-0.846733</td>\n",
       "      <td>-0.916319</td>\n",
       "      <td>-0.620147</td>\n",
       "      <td>0.862735</td>\n",
       "      <td>-1.217079</td>\n",
       "      <td>-0.279597</td>\n",
       "    </tr>\n",
       "    <tr>\n",
       "      <th>1</th>\n",
       "      <td>2.476712</td>\n",
       "      <td>-0.856472</td>\n",
       "      <td>-0.846733</td>\n",
       "      <td>-0.916319</td>\n",
       "      <td>-0.620147</td>\n",
       "      <td>1.055651</td>\n",
       "      <td>-1.217079</td>\n",
       "      <td>-0.279597</td>\n",
       "    </tr>\n",
       "    <tr>\n",
       "      <th>2</th>\n",
       "      <td>0.491187</td>\n",
       "      <td>0.795140</td>\n",
       "      <td>-0.846733</td>\n",
       "      <td>2.174405</td>\n",
       "      <td>-1.038638</td>\n",
       "      <td>-0.526262</td>\n",
       "      <td>-2.239829</td>\n",
       "      <td>3.551340</td>\n",
       "    </tr>\n",
       "    <tr>\n",
       "      <th>3</th>\n",
       "      <td>0.491187</td>\n",
       "      <td>0.795140</td>\n",
       "      <td>-0.846733</td>\n",
       "      <td>2.174405</td>\n",
       "      <td>-1.038638</td>\n",
       "      <td>-0.526262</td>\n",
       "      <td>-2.239829</td>\n",
       "      <td>5.055221</td>\n",
       "    </tr>\n",
       "    <tr>\n",
       "      <th>4</th>\n",
       "      <td>-0.790075</td>\n",
       "      <td>0.678079</td>\n",
       "      <td>-0.846733</td>\n",
       "      <td>0.488555</td>\n",
       "      <td>-1.038638</td>\n",
       "      <td>0.070492</td>\n",
       "      <td>0.647569</td>\n",
       "      <td>4.976069</td>\n",
       "    </tr>\n",
       "  </tbody>\n",
       "</table>\n",
       "</div>"
      ],
      "text/plain": [
       "     Cement  Blast Furnace Slag   Fly Ash     Water  Superplasticizer  \\\n",
       "0  2.476712           -0.856472 -0.846733 -0.916319         -0.620147   \n",
       "1  2.476712           -0.856472 -0.846733 -0.916319         -0.620147   \n",
       "2  0.491187            0.795140 -0.846733  2.174405         -1.038638   \n",
       "3  0.491187            0.795140 -0.846733  2.174405         -1.038638   \n",
       "4 -0.790075            0.678079 -0.846733  0.488555         -1.038638   \n",
       "\n",
       "   Coarse Aggregate  Fine Aggregate       Age  \n",
       "0          0.862735       -1.217079 -0.279597  \n",
       "1          1.055651       -1.217079 -0.279597  \n",
       "2         -0.526262       -2.239829  3.551340  \n",
       "3         -0.526262       -2.239829  5.055221  \n",
       "4          0.070492        0.647569  4.976069  "
      ]
     },
     "execution_count": 35,
     "metadata": {},
     "output_type": "execute_result"
    }
   ],
   "source": [
    "predictors_norm = (predictors - predictors.mean()) / predictors.std()\n",
    "predictors_norm.head()"
   ]
  },
  {
   "cell_type": "code",
   "execution_count": 36,
   "metadata": {},
   "outputs": [
    {
     "name": "stdout",
     "output_type": "stream",
     "text": [
      "309/309 [==============================] - 0s 131us/step\n",
      "309/309 [==============================] - 0s 136us/step\n",
      "309/309 [==============================] - 0s 135us/step\n",
      "309/309 [==============================] - 0s 135us/step\n",
      "309/309 [==============================] - 0s 197us/step\n",
      "309/309 [==============================] - 0s 141us/step\n",
      "309/309 [==============================] - 0s 131us/step\n",
      "309/309 [==============================] - 0s 183us/step\n",
      "309/309 [==============================] - 0s 144us/step\n",
      "309/309 [==============================] - 0s 191us/step\n",
      "309/309 [==============================] - 0s 141us/step\n",
      "309/309 [==============================] - 0s 144us/step\n",
      "309/309 [==============================] - 0s 136us/step\n",
      "309/309 [==============================] - 0s 143us/step\n",
      "309/309 [==============================] - 0s 148us/step\n",
      "309/309 [==============================] - 0s 174us/step\n",
      "309/309 [==============================] - 0s 139us/step\n",
      "309/309 [==============================] - 0s 177us/step\n",
      "309/309 [==============================] - 0s 242us/step\n",
      "309/309 [==============================] - 0s 134us/step\n",
      "309/309 [==============================] - 0s 181us/step\n",
      "309/309 [==============================] - 0s 149us/step\n",
      "309/309 [==============================] - 0s 139us/step\n",
      "309/309 [==============================] - 0s 198us/step\n",
      "309/309 [==============================] - 0s 198us/step\n",
      "309/309 [==============================] - 0s 138us/step\n",
      "309/309 [==============================] - 0s 135us/step\n",
      "309/309 [==============================] - 0s 182us/step\n",
      "309/309 [==============================] - 0s 143us/step\n",
      "309/309 [==============================] - 0s 136us/step\n",
      "309/309 [==============================] - 0s 134us/step\n",
      "309/309 [==============================] - 0s 138us/step\n",
      "309/309 [==============================] - 0s 204us/step\n",
      "309/309 [==============================] - 0s 145us/step\n",
      "309/309 [==============================] - 0s 182us/step\n",
      "309/309 [==============================] - 0s 251us/step\n",
      "309/309 [==============================] - 0s 141us/step\n",
      "309/309 [==============================] - 0s 198us/step\n",
      "309/309 [==============================] - 0s 148us/step\n",
      "309/309 [==============================] - 0s 190us/step\n",
      "309/309 [==============================] - 0s 201us/step\n",
      "309/309 [==============================] - 0s 142us/step\n",
      "309/309 [==============================] - 0s 183us/step\n",
      "309/309 [==============================] - 0s 150us/step\n",
      "309/309 [==============================] - 0s 152us/step\n",
      "309/309 [==============================] - 0s 187us/step\n",
      "309/309 [==============================] - 0s 234us/step\n",
      "309/309 [==============================] - 0s 152us/step\n",
      "309/309 [==============================] - 0s 208us/step\n",
      "309/309 [==============================] - 0s 144us/step\n"
     ]
    }
   ],
   "source": [
    "mse_list_b = []\n",
    "for i in range(50):\n",
    "    #changing split for every iteration\n",
    "    X_train, X_test, y_train, y_test = train_test_split( predictors_norm, target, test_size=0.3)\n",
    "    model = regression_model()\n",
    "    model.fit(X_train, y_train, validation_split=0.3, epochs=50, verbose=0)\n",
    "    mse = model.evaluate(X_test,y_test)\n",
    "    #appending mse of each iteration to the list\n",
    "    mse_list_b.append(mse)"
   ]
  },
  {
   "cell_type": "code",
   "execution_count": 37,
   "metadata": {},
   "outputs": [
    {
     "name": "stdout",
     "output_type": "stream",
     "text": [
      "Mean :  644.7875507678184\n",
      "Standard Deviation : 153.45514645982544\n"
     ]
    }
   ],
   "source": [
    "mean_mse_b = sum(mse_list_b) / len(mse_list_b) \n",
    "variance_b = sum([((x - mean_mse_b) ** 2) for x in mse_list_b]) / len(mse_list_b) \n",
    "mse_std_deviation_b = variance_b ** 0.5\n",
    "print(\"Mean : \",mean_mse_b)\n",
    "print(\"Standard Deviation :\",mse_std_deviation_b)"
   ]
  },
  {
   "cell_type": "code",
   "execution_count": 38,
   "metadata": {},
   "outputs": [],
   "source": [
    "#PART C"
   ]
  },
  {
   "cell_type": "code",
   "execution_count": 39,
   "metadata": {},
   "outputs": [
    {
     "name": "stdout",
     "output_type": "stream",
     "text": [
      "309/309 [==============================] - 0s 141us/step\n",
      "309/309 [==============================] - 0s 195us/step\n",
      "309/309 [==============================] - 0s 237us/step\n",
      "309/309 [==============================] - 0s 180us/step\n",
      "309/309 [==============================] - 0s 193us/step\n",
      "309/309 [==============================] - 0s 173us/step\n",
      "309/309 [==============================] - 0s 241us/step\n",
      "309/309 [==============================] - 0s 231us/step\n",
      "309/309 [==============================] - 0s 151us/step\n",
      "309/309 [==============================] - 0s 144us/step\n",
      "309/309 [==============================] - 0s 189us/step\n",
      "309/309 [==============================] - 0s 180us/step\n",
      "309/309 [==============================] - 0s 247us/step\n",
      "309/309 [==============================] - 0s 186us/step\n",
      "309/309 [==============================] - 0s 149us/step\n",
      "309/309 [==============================] - 0s 231us/step\n",
      "309/309 [==============================] - 0s 188us/step\n",
      "309/309 [==============================] - 0s 191us/step\n",
      "309/309 [==============================] - 0s 159us/step\n",
      "309/309 [==============================] - 0s 186us/step\n",
      "309/309 [==============================] - 0s 148us/step\n",
      "309/309 [==============================] - 0s 192us/step\n",
      "309/309 [==============================] - 0s 196us/step\n",
      "309/309 [==============================] - 0s 152us/step\n",
      "309/309 [==============================] - 0s 205us/step\n",
      "309/309 [==============================] - 0s 231us/step\n",
      "309/309 [==============================] - 0s 256us/step\n",
      "309/309 [==============================] - 0s 193us/step\n",
      "309/309 [==============================] - 0s 254us/step\n",
      "309/309 [==============================] - 0s 207us/step\n",
      "309/309 [==============================] - 0s 195us/step\n",
      "309/309 [==============================] - 0s 250us/step\n",
      "309/309 [==============================] - 0s 246us/step\n",
      "309/309 [==============================] - 0s 189us/step\n",
      "309/309 [==============================] - 0s 197us/step\n",
      "309/309 [==============================] - 0s 191us/step\n",
      "309/309 [==============================] - 0s 209us/step\n",
      "309/309 [==============================] - 0s 193us/step\n",
      "309/309 [==============================] - 0s 201us/step\n",
      "309/309 [==============================] - 0s 227us/step\n",
      "309/309 [==============================] - 0s 248us/step\n",
      "309/309 [==============================] - 0s 325us/step\n",
      "309/309 [==============================] - 0s 300us/step\n",
      "309/309 [==============================] - 0s 193us/step\n",
      "309/309 [==============================] - 0s 241us/step\n",
      "309/309 [==============================] - 0s 246us/step\n",
      "309/309 [==============================] - 0s 250us/step\n",
      "309/309 [==============================] - 0s 262us/step\n",
      "309/309 [==============================] - 0s 211us/step\n",
      "309/309 [==============================] - 0s 244us/step\n"
     ]
    }
   ],
   "source": [
    "mse_list_c = []\n",
    "for i in range(50):\n",
    "    #changing split for every iteration\n",
    "    X_train, X_test, y_train, y_test = train_test_split( predictors_norm, target, test_size=0.3)\n",
    "    model = regression_model()\n",
    "    model.fit(X_train, y_train, validation_split=0.3, epochs=100, verbose=0)\n",
    "    mse = model.evaluate(X_test,y_test)\n",
    "    #appending mse of each iteration to the list\n",
    "    mse_list_c.append(mse)"
   ]
  },
  {
   "cell_type": "code",
   "execution_count": 42,
   "metadata": {},
   "outputs": [
    {
     "name": "stdout",
     "output_type": "stream",
     "text": [
      "Mean :  228.6044069476575\n",
      "Standard Deviation : 32.202443202848144\n"
     ]
    }
   ],
   "source": [
    "mean_mse_c = sum(mse_list_c) / len(mse_list_c) \n",
    "variance_c = sum([((x - mean_mse_c) ** 2) for x in mse_list_c]) / len(mse_list_c) \n",
    "mse_std_deviation_c = variance_c ** 0.5\n",
    "print(\"Mean : \",mean_mse_c)\n",
    "print(\"Standard Deviation :\",mse_std_deviation_c)"
   ]
  },
  {
   "cell_type": "code",
   "execution_count": 43,
   "metadata": {},
   "outputs": [],
   "source": [
    "#PART D"
   ]
  },
  {
   "cell_type": "code",
   "execution_count": 44,
   "metadata": {
    "button": false,
    "new_sheet": false,
    "run_control": {
     "read_only": false
    }
   },
   "outputs": [],
   "source": [
    "# define newer regression model\n",
    "def regression_model():\n",
    "    # create model\n",
    "    model = Sequential()\n",
    "    model.add(Dense(10, activation='relu', input_shape=(n_cols,)))\n",
    "    model.add(Dense(10, activation='relu'))\n",
    "    model.add(Dense(10, activation='relu'))\n",
    "    model.add(Dense(1))\n",
    "    \n",
    "    # compile model\n",
    "    model.compile(optimizer='adam', loss='mean_squared_error')\n",
    "    return model"
   ]
  },
  {
   "cell_type": "code",
   "execution_count": 45,
   "metadata": {},
   "outputs": [
    {
     "name": "stdout",
     "output_type": "stream",
     "text": [
      "309/309 [==============================] - 0s 214us/step\n",
      "309/309 [==============================] - 0s 252us/step\n",
      "309/309 [==============================] - 0s 264us/step\n",
      "309/309 [==============================] - 0s 596us/step\n",
      "309/309 [==============================] - 0s 271us/step\n",
      "309/309 [==============================] - 0s 270us/step\n",
      "309/309 [==============================] - 0s 258us/step\n",
      "309/309 [==============================] - 0s 200us/step\n",
      "309/309 [==============================] - 0s 252us/step\n",
      "309/309 [==============================] - 0s 268us/step\n",
      "309/309 [==============================] - 0s 263us/step\n",
      "309/309 [==============================] - 0s 248us/step\n",
      "309/309 [==============================] - 0s 311us/step\n",
      "309/309 [==============================] - 0s 319us/step\n",
      "309/309 [==============================] - 0s 329us/step\n",
      "309/309 [==============================] - 0s 258us/step\n",
      "309/309 [==============================] - 0s 312us/step\n",
      "309/309 [==============================] - 0s 325us/step\n",
      "309/309 [==============================] - 0s 254us/step\n",
      "309/309 [==============================] - 0s 325us/step\n",
      "309/309 [==============================] - 0s 315us/step\n",
      "309/309 [==============================] - 0s 263us/step\n",
      "309/309 [==============================] - 0s 321us/step\n",
      "309/309 [==============================] - 0s 305us/step\n",
      "309/309 [==============================] - 0s 262us/step\n",
      "309/309 [==============================] - 0s 274us/step\n",
      "309/309 [==============================] - 0s 258us/step\n",
      "309/309 [==============================] - 0s 251us/step\n",
      "309/309 [==============================] - 0s 325us/step\n",
      "309/309 [==============================] - 0s 304us/step\n",
      "309/309 [==============================] - 0s 320us/step\n",
      "309/309 [==============================] - 0s 321us/step\n",
      "309/309 [==============================] - 0s 319us/step\n",
      "309/309 [==============================] - 0s 316us/step\n",
      "309/309 [==============================] - 0s 299us/step\n",
      "309/309 [==============================] - 0s 314us/step\n",
      "309/309 [==============================] - 0s 307us/step\n",
      "309/309 [==============================] - 0s 254us/step\n",
      "309/309 [==============================] - 0s 258us/step\n",
      "309/309 [==============================] - 0s 355us/step\n",
      "309/309 [==============================] - 0s 300us/step\n",
      "309/309 [==============================] - 0s 296us/step\n",
      "309/309 [==============================] - 0s 430us/step\n",
      "309/309 [==============================] - 0s 313us/step\n",
      "309/309 [==============================] - 0s 272us/step\n",
      "309/309 [==============================] - 0s 346us/step\n",
      "309/309 [==============================] - 0s 321us/step\n",
      "309/309 [==============================] - 0s 334us/step\n",
      "309/309 [==============================] - 0s 309us/step\n",
      "309/309 [==============================] - 0s 306us/step\n"
     ]
    }
   ],
   "source": [
    "mse_list_d = []\n",
    "for i in range(50):\n",
    "    #changing split for every iteration\n",
    "    X_train, X_test, y_train, y_test = train_test_split( predictors_norm, target, test_size=0.3)\n",
    "    model = regression_model()\n",
    "    model.fit(X_train, y_train, validation_split=0.3, epochs=50, verbose=0)\n",
    "    mse = model.evaluate(X_test,y_test)\n",
    "    #appending mse of each iteration to the list\n",
    "    mse_list_d.append(mse)"
   ]
  },
  {
   "cell_type": "code",
   "execution_count": 46,
   "metadata": {},
   "outputs": [
    {
     "name": "stdout",
     "output_type": "stream",
     "text": [
      "Mean :  150.94560288315066\n",
      "Standard Deviation : 14.873075851501572\n"
     ]
    }
   ],
   "source": [
    "mean_mse_d = sum(mse_list_d) / len(mse_list_d) \n",
    "variance_d = sum([((x - mean_mse_d) ** 2) for x in mse_list_d]) / len(mse_list_d) \n",
    "mse_std_deviation_d = variance_d ** 0.5\n",
    "print(\"Mean : \",mean_mse_d)\n",
    "print(\"Standard Deviation :\",mse_std_deviation_d)"
   ]
  },
  {
   "cell_type": "markdown",
   "metadata": {
    "button": false,
    "deletable": true,
    "new_sheet": false,
    "run_control": {
     "read_only": false
    }
   },
   "source": [
    "<hr>\n",
    "\n",
    "Copyright &copy; 2019 [IBM Developer Skills Network](https://cognitiveclass.ai/?utm_source=bducopyrightlink&utm_medium=dswb&utm_campaign=bdu). This notebook and its source code are released under the terms of the [MIT License](https://bigdatauniversity.com/mit-license/)."
   ]
  }
 ],
 "metadata": {
  "kernelspec": {
   "display_name": "Python",
   "language": "python",
   "name": "conda-env-python-py"
  },
  "language_info": {
   "codemirror_mode": {
    "name": "ipython",
    "version": 3
   },
   "file_extension": ".py",
   "mimetype": "text/x-python",
   "name": "python",
   "nbconvert_exporter": "python",
   "pygments_lexer": "ipython3",
   "version": "3.6.10"
  }
 },
 "nbformat": 4,
 "nbformat_minor": 4
}
